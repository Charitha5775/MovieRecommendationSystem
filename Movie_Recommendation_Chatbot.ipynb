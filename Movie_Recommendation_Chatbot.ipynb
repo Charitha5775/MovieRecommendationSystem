{
  "cells": [
    {
      "cell_type": "markdown",
      "metadata": {
        "id": "view-in-github",
        "colab_type": "text"
      },
      "source": [
        "<a href=\"https://colab.research.google.com/github/Charitha5775/MovieRecommendationSystem/blob/main/Movie_Recommendation_Chatbot.ipynb\" target=\"_parent\"><img src=\"https://colab.research.google.com/assets/colab-badge.svg\" alt=\"Open In Colab\"/></a>"
      ]
    },
    {
      "cell_type": "markdown",
      "metadata": {
        "id": "9DYTyNsn1DEw"
      },
      "source": []
    },
    {
      "cell_type": "code",
      "source": [
        "#Import pandas and upload the CSV file\n",
        "import pandas as pd\n",
        "import random\n",
        "from google.colab import files\n",
        "\n",
        "uploaded = files.upload()\n",
        "# Load the file into dataframe\n",
        "uploaded_filename = list(uploaded.keys())[0]\n",
        "if uploaded_filename.endswith('.xlsx'):\n",
        "    df = pd.read_excel(uploaded_filename)\n",
        "else:\n",
        "    df = pd.read_csv(uploaded_filename)"
      ],
      "metadata": {
        "id": "bZfs8eg4hlZW"
      },
      "execution_count": null,
      "outputs": []
    },
    {
      "cell_type": "code",
      "source": [
        "# Converting DataFrame to a nested dictionary:\n",
        "movies = {}\n",
        "\n",
        "for _, row in df.iterrows():\n",
        "    genre = str(row[\"Genre\"]).strip().lower()\n",
        "    language = str(row[\"Language\"]).strip().lower()\n",
        "    movie = str(row[\"Movie\"]).strip()\n",
        "\n",
        "    if genre not in movies:\n",
        "        movies[genre] = {}\n",
        "    if language not in movies[genre]:\n",
        "        movies[genre][language] = []\n",
        "\n",
        "    movies[genre][language].append(movie)"
      ],
      "metadata": {
        "id": "A4kW1uuJOZlB"
      },
      "execution_count": null,
      "outputs": []
    },
    {
      "cell_type": "code",
      "execution_count": null,
      "metadata": {
        "id": "sU6MnbK-yt6d"
      },
      "outputs": [],
      "source": [
        "# Step 4: Function to get random recommendations by genre and optional language\n",
        "def get_recommendation(genre, language=\"all\", count=5):\n",
        "    genre = genre.lower()\n",
        "    language = language.lower()\n",
        "\n",
        "    if genre not in movies:\n",
        "        return None\n",
        "\n",
        "    if language == \"all\":\n",
        "        # Combine movies from all languages in the genre\n",
        "        combined = []\n",
        "        for lang_list in movies[genre].values():\n",
        "            combined.extend(lang_list)\n",
        "        return random.sample(combined, min(count, len(combined)))\n",
        "\n",
        "    if language in movies[genre]:\n",
        "        return random.sample(movies[genre][language], min(count, len(movies[genre][language])))\n",
        "\n",
        "    return None\n"
      ]
    },
    {
      "cell_type": "code",
      "execution_count": null,
      "metadata": {
        "id": "U09b2iJC7hGV"
      },
      "outputs": [],
      "source": [
        "# Chatbot interaction\n",
        "print(\"Welcome to the Movie Recommendation Bot!\")\n",
        "print(\"Ask for movie recommendations by genre (Action, Comedy, Drama, Romance,Thriller,Sci-Fi,Fantasy)\")\n",
        "print(\"You can also specify language (Telugu, Hindi, English), or skip for all languages.\")\n",
        "print(\"Example inputs: 'action telugu', 'comedy', 'romance hindi', 'drama english', 'thriller','telugu Sci-Fi','fantasy'\")\n",
        "print(\"Type 'exit' to quit.\\n\")\n",
        "while True:\n",
        "    user_input = input(\"You: \").lower().strip()\n",
        "    if user_input == \"exit\":\n",
        "        print(\"Bot: Goodbye! Enjoy your movies!\")\n",
        "        break\n",
        "\n",
        "    words = user_input.split()\n",
        "    genre = None\n",
        "    language = \"all\"\n",
        "    # Parse user input for genre and language\n",
        "    for word in words:\n",
        "        if word in movies:\n",
        "            genre = word\n",
        "        elif word in [\"telugu\", \"hindi\", \"english\"]:\n",
        "            language = word\n",
        "            # Show recommendations or error message\n",
        "    if genre:\n",
        "        recs = get_recommendation(genre, language)\n",
        "        if recs:\n",
        "            lang_text = language.title() if language != \"all\" else \"various languages\"\n",
        "            print(f\"Bot: Here are some {lang_text} {genre.title()} movies you might enjoy:\")\n",
        "            for i, movie in enumerate(recs, 1):\n",
        "                print(f\"  {i}. {movie}\")\n",
        "        else:\n",
        "            print(f\"Bot: Sorry, no {language.title()} movies found for genre '{genre.title()}'.\")\n",
        "    else:\n",
        "        print(\"Bot: Sorry, please mention a valid genre (Action, Comedy, Drama, Romance, Thriller,Sci-Fi,Fantasy).\")\n",
        "\n",
        "\n",
        "\n"
      ]
    }
  ],
  "metadata": {
    "colab": {
      "provenance": [],
      "authorship_tag": "ABX9TyPqfnP/KKZ8A3Dux64+xTuv",
      "include_colab_link": true
    },
    "kernelspec": {
      "display_name": "Python 3",
      "name": "python3"
    },
    "language_info": {
      "name": "python"
    }
  },
  "nbformat": 4,
  "nbformat_minor": 0
}