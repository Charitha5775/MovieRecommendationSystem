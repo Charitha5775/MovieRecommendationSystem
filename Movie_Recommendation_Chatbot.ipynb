{
  "cells": [
    {
      "cell_type": "markdown",
      "metadata": {
        "id": "view-in-github",
        "colab_type": "text"
      },
      "source": [
        "<a href=\"https://colab.research.google.com/github/Charitha5775/MovieRecommendationSystem/blob/main/Movie_Recommendation_Chatbot.ipynb\" target=\"_parent\"><img src=\"https://colab.research.google.com/assets/colab-badge.svg\" alt=\"Open In Colab\"/></a>"
      ]
    },
    {
      "cell_type": "markdown",
      "metadata": {
        "id": "9DYTyNsn1DEw"
      },
      "source": []
    },
    {
      "cell_type": "code",
      "source": [
        "# Import pandas and upload the file\n",
        "import pandas as pd\n",
        "import random\n",
        "from google.colab import files\n",
        "\n",
        "uploaded = files.upload()\n",
        "# Load the file into dataframe\n",
        "uploaded_filename = list(uploaded.keys())[0]\n",
        "if uploaded_filename.endswith('.xlsx'):\n",
        "    df = pd.read_excel(uploaded_filename)\n",
        "else:\n",
        "    df = pd.read_csv(uploaded_filename)"
      ],
      "metadata": {
        "id": "bZfs8eg4hlZW"
      },
      "execution_count": null,
      "outputs": []
    },
    {
      "cell_type": "code",
      "source": [
        "# Converting DataFrame to a nested dictionary:\n",
        "movies = {}\n",
        "\n",
        "for _, row in df.iterrows():\n",
        "    genre = str(row[\"Genre\"]).strip().lower()\n",
        "    language = str(row[\"Language\"]).strip().lower()\n",
        "    movie = str(row[\"Movie\"]).strip()\n",
        "\n",
        "    if genre not in movies:\n",
        "        movies[genre] = {}\n",
        "    if language not in movies[genre]:\n",
        "        movies[genre][language] = []\n",
        "\n",
        "    movies[genre][language].append(movie)"
      ],
      "metadata": {
        "id": "A4kW1uuJOZlB"
      },
      "execution_count": null,
      "outputs": []
    },
    {
      "cell_type": "code",
      "execution_count": null,
      "metadata": {
        "id": "sU6MnbK-yt6d"
      },
      "outputs": [],
      "source": [
        "# Function to get random recommendations by genre and optional language\n",
        "def get_recommendation(genre, language=\"all\", count=5):\n",
        "    genre = genre.lower()\n",
        "    language = language.lower()\n",
        "\n",
        "    if genre not in movies:\n",
        "        return None\n",
        "\n",
        "    if language == \"all\":\n",
        "        # Combine movies from all languages in the genre\n",
        "        combined = []\n",
        "        for lang_list in movies[genre].values():\n",
        "            combined.extend(lang_list)\n",
        "        return random.sample(combined, min(count, len(combined)))\n",
        "\n",
        "    if language in movies[genre]:\n",
        "        return random.sample(movies[genre][language], min(count, len(movies[genre][language])))\n",
        "\n",
        "    return None\n"
      ]
    },
    {
      "cell_type": "code",
      "execution_count": null,
      "metadata": {
        "id": "U09b2iJC7hGV"
      },
      "outputs": [],
      "source": [
        "# Chatbot interaction\n",
        "print(\"Welcome to the Movie Recommendation Bot!\")\n",
        "print(\"Ask for movie recommendations by genre (Action, Comedy, Drama, Romance,Thriller,Sci-Fi,Fantasy)\")\n",
        "print(\"You can also specify language (Telugu, Hindi, English), or skip for all languages.\")\n",
        "print(\"Example inputs: 'action telugu', 'comedy', 'romance hindi', 'drama english', 'thriller','telugu Sci-Fi','fantasy'\")\n",
        "print(\"Type 'exit' to quit.\\n\")\n",
        "while True:\n",
        "    user_input = input(\"You: \").lower().strip()\n",
        "    if user_input == \"exit\":\n",
        "        print(\"Bot: Goodbye! Enjoy your movies!\")\n",
        "        break\n",
        "\n",
        "    words = user_input.split()\n",
        "    genre = None\n",
        "    language = \"all\"\n",
        "    # Parse user input for genre and language\n",
        "    for word in words:\n",
        "        if word in movies:\n",
        "            genre = word\n",
        "        elif word in [\"telugu\", \"hindi\", \"english\"]:\n",
        "            language = word\n",
        "            # Show recommendations or error message\n",
        "    if genre:\n",
        "        recs = get_recommendation(genre, language)\n",
        "        if recs:\n",
        "            lang_text = language.title() if language != \"all\" else \"various languages\"\n",
        "            print(f\"Bot: Here are some {lang_text} {genre.title()} movies you might enjoy:\")\n",
        "            for i, movie in enumerate(recs, 1):\n",
        "                print(f\"  {i}. {movie}\")\n",
        "        else:\n",
        "            print(f\"Bot: Sorry, no {language.title()} movies found for genre '{genre.title()}'.\")\n",
        "    else:\n",
        "        print(\"Bot: Sorry, please mention a valid genre (Action, Comedy, Drama, Romance, Thriller,Sci-Fi,Fantasy).\")\n",
        "\n",
        "\n",
        "\n"
      ]
    },
    {
      "cell_type": "code",
      "source": [
        "!pip install scikit-learn joblib ipywidgets"
      ],
      "metadata": {
        "id": "vSNbGstwD5KL"
      },
      "execution_count": null,
      "outputs": []
    },
    {
      "cell_type": "code",
      "source": [
        "import pandas as pd\n",
        "import ipywidgets as widgets\n",
        "from IPython.display import display\n",
        "import time"
      ],
      "metadata": {
        "id": "exJUdzY5EASD"
      },
      "execution_count": null,
      "outputs": []
    },
    {
      "cell_type": "code",
      "source": [
        "from google.colab import files\n",
        "\n",
        "uploaded = files.upload()"
      ],
      "metadata": {
        "id": "xNs9D6L_EH0a"
      },
      "execution_count": null,
      "outputs": []
    },
    {
      "cell_type": "code",
      "source": [
        "df = pd.read_csv('movie_db.csv', encoding='latin-1')"
      ],
      "metadata": {
        "id": "ym_RrvroEOLE"
      },
      "execution_count": null,
      "outputs": []
    },
    {
      "cell_type": "code",
      "source": [
        "df['Genre'] = df['Genre'].str.lower()\n",
        "df['Language'] = df['Language'].str.lower()\n",
        "df['Movie'] = df['Movie'].str.title()\n",
        "\n",
        "greetings = ['hi', 'hello', 'hey', 'namaste', 'hola', 'hai']\n",
        "thanks_keywords = ['thanks', 'thank you', 'thank u', 'thx']\n",
        "\n",
        "chat_output = widgets.Output(layout=widgets.Layout(border='1px solid gray', height='300px', overflow='auto'))\n",
        "user_input = widgets.Text(placeholder='Type your message here and press Enter', description='You:', layout=widgets.Layout(width='80%'))\n",
        "\n",
        "enter_button = widgets.Button(description='Enter', button_style='success', layout=widgets.Layout(width='10%'))\n",
        "clear_button = widgets.Button(description='Clear Chat', button_style='warning', layout=widgets.Layout(width='10%'))\n",
        "input_box = widgets.HBox([user_input, enter_button, clear_button])\n",
        "\n",
        "session = {\"genre\": None, \"language\": None}\n",
        "\n",
        "# Helper extraction functions\n",
        "def extract_genre(text):\n",
        "    text_lower = text.lower()\n",
        "    for genre in df['Genre'].unique():\n",
        "        if genre in text_lower:\n",
        "            return genre\n",
        "    return None\n",
        "\n",
        "def extract_language(text):\n",
        "    text_lower = text.lower()\n",
        "    for lang in df['Language'].unique():\n",
        "        if lang in text_lower:\n",
        "            return lang\n",
        "    return None\n",
        "\n",
        "def extract_number(text):\n",
        "    words = text.lower().split()\n",
        "    for word in words:\n",
        "        if word.isdigit():\n",
        "            return int(word)\n",
        "    return None\n",
        "\n",
        "# Recommendation logic\n",
        "def recommend_movies(genre, language, top_n=3):\n",
        "    filtered = df[(df['Genre'] == genre) & (df['Language'] == language)].copy()\n",
        "    if filtered.empty:\n",
        "        return f\"No movies found for genre '{genre}' and language '{language}'.\"\n",
        "    top_movies = filtered.sort_values(by='Rating', ascending=False).head(top_n)\n",
        "    response = f\"Top {min(top_n, len(top_movies))} {genre.title()} movies in {language.title()}:\\n\"\n",
        "    for _, row in top_movies.iterrows():\n",
        "        response += f\"- {row['Movie']} (Rating: {row['Rating']})\\n\"\n",
        "    return response\n",
        "\n",
        "# Chat display\n",
        "def print_user_message(msg):\n",
        "    with chat_output:\n",
        "        print(f\"🧑: {msg}\\n\")\n",
        "\n",
        "def print_bot_message(msg):\n",
        "    with chat_output:\n",
        "        print(\"🤖 is typing...\")\n",
        "    time.sleep(1)\n",
        "    with chat_output:\n",
        "        print(f\"🤖: {msg}\\n\")\n",
        "\n",
        "# Core logic\n",
        "def process_message(user_msg):\n",
        "    user_msg = user_msg.strip()\n",
        "    if not user_msg:\n",
        "        return\n",
        "\n",
        "    print_user_message(user_msg)\n",
        "    lower_msg = user_msg.lower()\n",
        "\n",
        "    if lower_msg in ['quit', 'exit']:\n",
        "         print_bot_message(\"Goodbye! 👋 Have a great day! You can restart the chat anytime.\")\n",
        "         session[\"genre\"] = None\n",
        "         session[\"language\"] = None\n",
        "         return\n",
        "\n",
        "\n",
        "    if lower_msg in greetings:\n",
        "        print_bot_message(\"Hello! 👋 Tell me a movie genre and language you prefer, or just one and I'll ask for the other.\")\n",
        "        return\n",
        "\n",
        "    if any(thx in lower_msg for thx in thanks_keywords):\n",
        "        print_bot_message(\"You're welcome! 😊 Want more recommendations? Just say a genre or language.\")\n",
        "        session[\"genre\"] = None\n",
        "        session[\"language\"] = None\n",
        "        return\n",
        "\n",
        "    genre = extract_genre(user_msg)\n",
        "    language = extract_language(user_msg)\n",
        "\n",
        "    if genre:\n",
        "        session[\"genre\"] = genre\n",
        "    if language:\n",
        "        session[\"language\"] = language\n",
        "\n",
        "    num_movies = extract_number(user_msg) or 3\n",
        "\n",
        "    if session[\"genre\"] and session[\"language\"]:\n",
        "        response = recommend_movies(session[\"genre\"], session[\"language\"], num_movies)\n",
        "        print_bot_message(response)\n",
        "        session[\"genre\"], session[\"language\"] = None, None\n",
        "    elif session[\"genre\"]:\n",
        "        available_langs = ', '.join(df[df['Genre'] == session[\"genre\"]]['Language'].unique())\n",
        "        print_bot_message(f\"Great! Which language do you prefer? Available for {session['genre'].title()}: {available_langs}\")\n",
        "    elif session[\"language\"]:\n",
        "        available_genres = ', '.join(df[df['Language'] == session[\"language\"]]['Genre'].unique())\n",
        "        print_bot_message(f\"You chose {session['language'].title()} language. Which genre do you like? Available genres: {available_genres}\")\n",
        "    else:\n",
        "        print_bot_message(\"Please mention a genre and language like 'romance in Hindi' or 'action Telugu movies'.\")\n",
        "\n",
        "# Events\n",
        "def on_enter_clicked(b):\n",
        "    process_message(user_input.value)\n",
        "    user_input.value = ''\n",
        "\n",
        "def on_clear_clicked(b):\n",
        "    chat_output.clear_output()\n",
        "    session[\"genre\"] = None\n",
        "    session[\"language\"] = None\n",
        "    with chat_output:\n",
        "        print(\"🤖: Chat cleared. Say hi to start a new conversation!\\n\")\n",
        "\n",
        "def on_text_submit(change):\n",
        "    process_message(change.value)\n",
        "    user_input.value = ''\n",
        "\n",
        "enter_button.on_click(on_enter_clicked)\n",
        "clear_button.on_click(on_clear_clicked)\n",
        "user_input.on_submit(on_text_submit)\n",
        "\n",
        "display(chat_output, input_box)"
      ],
      "metadata": {
        "id": "mnIA6ba8ESNw"
      },
      "execution_count": null,
      "outputs": []
    }
  ],
  "metadata": {
    "colab": {
      "provenance": [],
      "authorship_tag": "ABX9TyNfwSYz+X5XkQ+hFCTZWo5Q",
      "include_colab_link": true
    },
    "kernelspec": {
      "display_name": "Python 3",
      "name": "python3"
    },
    "language_info": {
      "name": "python"
    }
  },
  "nbformat": 4,
  "nbformat_minor": 0
}